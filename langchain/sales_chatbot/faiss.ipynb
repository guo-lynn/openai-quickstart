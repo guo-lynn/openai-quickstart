{
 "cells": [
  {
   "cell_type": "code",
   "execution_count": 1,
   "id": "19e0870e-353e-447a-b429-334625bc1d72",
   "metadata": {},
   "outputs": [
    {
     "name": "stdout",
     "output_type": "stream",
     "text": [
      "Looking in indexes: https://pypi.tuna.tsinghua.edu.cn/simple\n",
      "Requirement already satisfied: faiss-cpu in d:\\anaconda\\anaconda\\envs\\langchain\\lib\\site-packages (1.8.0)\n",
      "Requirement already satisfied: numpy in d:\\anaconda\\anaconda\\envs\\langchain\\lib\\site-packages (from faiss-cpu) (1.26.4)\n"
     ]
    }
   ],
   "source": [
    "!pip install faiss-cpu"
   ]
  },
  {
   "cell_type": "code",
   "execution_count": 2,
   "id": "74edc7c2-2f05-40d3-98c9-c1c4d13bf819",
   "metadata": {},
   "outputs": [],
   "source": [
    "# 需要 CUDA 7.5+ 版本支持的 GPU\n",
    "#!pip install faiss-gpu "
   ]
  },
  {
   "cell_type": "markdown",
   "id": "cfd2fec5-84f0-429d-903a-08933bf19cfa",
   "metadata": {},
   "source": [
    "# Faiss 向量数据库"
   ]
  },
  {
   "cell_type": "code",
   "execution_count": 3,
   "id": "03b26ecf-987a-4c53-b7fa-cc566363276d",
   "metadata": {},
   "outputs": [],
   "source": [
    "from langchain_openai import OpenAIEmbeddings\n",
    "from langchain.text_splitter import CharacterTextSplitter\n",
    "from langchain.vectorstores import FAISS\n",
    "from langchain.document_loaders import TextLoader"
   ]
  },
  {
   "cell_type": "code",
   "execution_count": 4,
   "id": "cb5d79ae-6fe5-4fff-bfab-30762c1f1188",
   "metadata": {},
   "outputs": [],
   "source": [
    "# 实例化文档加载器\n",
    "loader = TextLoader(\"test_result.txt\")\n",
    "# 加载文档\n",
    "documents = loader.load()"
   ]
  },
  {
   "cell_type": "code",
   "execution_count": 5,
   "id": "9b404e22-a148-4b63-a69c-54b1e76db5d3",
   "metadata": {},
   "outputs": [],
   "source": [
    "# 实例化文本分割器\n",
    "text_splitter = CharacterTextSplitter(chunk_size=1000, chunk_overlap=0)\n",
    "# 分割文本\n",
    "docs = text_splitter.split_documents(documents)"
   ]
  },
  {
   "cell_type": "code",
   "execution_count": 6,
   "id": "34897ff3-8f9c-42d6-841f-e06c0d2f521c",
   "metadata": {
    "tags": []
   },
   "outputs": [
    {
     "data": {
      "text/plain": [
       "[Document(metadata={'source': 'test_result.txt'}, page_content='1. [客户问题] 我对这款产品不太了解，能详细介绍一下吗？\\n   [销售回答] 当然，请允许我向您详细介绍产品的特点和优势。\\n\\n2. [客户问题] 这款产品与竞争对手的相比优势在哪里？\\n   [销售回答] 我们的产品在性能、价格和服务上都具有明显优势，让我为您逐一分析一下。\\n\\n3. [客户问题] 我们的预算有限，有没有更经济实惠的选择？\\n   [销售回答] 当然可以，在您的预算范围内，我们有几款性价比非常高的产品可以推荐给您。\\n\\n4. [客户问题] 我担心产品的质量问题，如何保证？\\n   [销售回答] 我们有严格的质量控制体系，所有产品在出厂前都会经过多道质检程序，确保达到最高标准。\\n\\n5. [客户问题] 如果购买后出现问题，可以享受到哪些售后服务？\\n   [销售回答] 我们提供包括免费维修、返修、换货等全方位的售后服务，确保您的使用体验无忧。\\n\\n6. [客户问题] 我对产品的性能指标有些疑问，能否解答一下？\\n   [销售回答] 当然，请告诉我您关注的具体性能指标，我可以为您解释清楚。\\n\\n7. [客户问题] 这款产品有哪些不同的配置可供选择？\\n   [销售回答] 我们有多种配置可供选择，可以根据您的需求定制，确保最佳的使用体验。\\n\\n8. [客户问题] 我们公司需要大量采购，有没有批量购买的优惠？\\n   [销售回答] 是的，我们可以提供相应的批量采购优惠政策，您可以根据具体需求与我讨论。\\n\\n9. [客户问题] 这款产品的寿命如何？能保证长期稳定使用吗？\\n   [销售回答] 我们的产品经过严格耐久性测试，能够保证长期稳定使用，是您值得信赖的选择。\\n\\n10. [客户问题] 我对产品的适用场景有些疑问，能否帮忙解答？\\n    [销售回答] 当然，请告诉我您的具体使用场景，我可以为您提供详细的使用建议。\\n\\n11. [客户问题] 如果需要定制化的服务，您们能提供吗？\\n    [销售回答] 是的，我们可以根据您的需求进行定制化服务，确保完全符合您的业务需求。\\n\\n12. [客户问题] 我对产品的环保性能很关注，能否介绍一下？\\n    [销售回答] 我们的产品符合最新的环保标准，采用了环保材料和节能设计，是可持续发展的选择。'),\n",
       " Document(metadata={'source': 'test_result.txt'}, page_content='13. [客户问题] 我们需要快速交付，您们能保证及时送达吗？\\n    [销售回答] 我们有高效的供应链管理系统，能够确保及时交付，让您的项目进度不受影响。\\n\\n14. [客户问题] 我们之前的合作伙伴有些问题，如何确保我们之间的合作顺利？\\n    [销售回答] 我们重视与客户的合作关系，会提供及时的沟通和支持，确保合作顺利进行。\\n\\n15. [客户问题] 我们需要产品的技术支持，您们能提供吗？\\n    [销售回答] 是的，我们有专业的技术支持团队，可以为您提供全方位的技术支持和培训。\\n\\n16. [客户问题] 这款产品的市场反馈如何？有哪些客户案例可供参考？\\n    [销售回答] 我们的产品在市场上反馈非常好，有多个成功的客户案例可以为您参考。\\n\\n17. [客户问题] 我们需要了解产品的安装及操作步骤，能提供相关信息吗？\\n    [销售回答] 当然可以，请放心，我们会为您提供详细的安装及操作手册，并提供远程或现场指导。\\n\\n18. [客户问题] 如果我们对产品不满意，是否可以退货或换货？\\n    [销售回答] 我们提供七天无理由退换货服务，确保您的购物体验无忧。\\n\\n19. [客户问题] 我对付款方式有些疑问，有哪些选择？\\n    [销售回答] 我们支持多种灵活的付款方式，包括电汇、信用卡、支付宝等，可根据您的便利选择。\\n\\n20. [客户问题] 如果需要追加购买，是否有补货保证？\\n    [销售回答] 是的，我们有定期的库存补货计划，确保能够满足您的追加采购需求。\\n\\n21. [客户问题] 我们对产品的售后支持体系有些疑问，能详细介绍一下吗？\\n    [销售回答] 我们的售后支持包括快速响应、远程支持、备件供应等，确保您的设备能够稳定运行。\\n\\n22. [客户问题] 产品有什么新的升级或改进吗？\\n    [销售回答] 是的，我们定期对产品进行升级和改进，以提升性能和用户体验。\\n\\n23. [客户问题] 我们公司有一些特殊的需求，您能提供个性化解决方案吗？\\n    [销售回答] 当然可以，请告诉我您的具体需求，我们可以为您量身定制解决方案。\\n\\n24. [客户问题] 我们需要产品的样品测试，能提供吗？\\n    [销售回答] 是的，我们可以提供样品进行测试，让您更直观地了解产品的性能和质量。'),\n",
       " Document(metadata={'source': 'test_result.txt'}, page_content='25. [客户问题] 我们希望了解一下产品的生产工艺和制造标准，可以介绍一下吗？\\n    [销售回答] 当然，请允许我向您详细介绍我们的生产工艺和严格的制造标准。\\n\\n26. [客户问题] 这款产品的竞争优势是什么？\\n    [销售回答] 我们的产品在性能、质量、服务和价格上都有明显的竞争优势，是市场上的领先者。\\n\\n27. [客户问题] 如果我们需要在特定时间内完成采购，能否保证供货？\\n    [销售回答] 是的，我们有灵活的生产计划和供应链管理，能够根据您的时间表安排供货。\\n\\n28. [客户问题] 我们需要产品的详细技术规格，请提供一份技术参数表。\\n   [销售回答] 当然，请让我发送给您最新的技术参数表，您可以详细查阅产品的各项技术指标。\\n\\n29. [客户问题] 我们对产品的供应能力有些担忧，能否保证稳定供应？\\n   [销售回答] 我们有稳定的供应链和生产能力，能够满足您的长期采购需求，确保稳定供应。\\n\\n30. [客户问题] 这款产品的市场定位是什么？适合哪些客户群体？\\n   [销售回答] 我们的产品定位于高端市场，适合需要高性能和可靠品质的客户群体。\\n\\n31. [客户问题] 我们需要了解产品的生产周期和交付周期，请详细说明。\\n   [销售回答] 生产周期和交付周期会根据具体订单而定，通常我们会在订单确认后为您详细规划。\\n\\n32. [客户问题] 我们希望了解一下产品的历史销售数据和市场份额。\\n   [销售回答] 我们可以为您提供最近几年的销售数据和市场份额分析报告，让您了解产品在市场上的表现。\\n\\n33. [客户问题] 我们需要了解产品的售后维护成本，能给出一个大概的估算吗？\\n   [销售回答] 售后维护成本会根据具体使用情况和服务类型有所不同，我们可以为您提供详细的成本估算和预算建议。\\n\\n34. [客户问题] 我们公司的安全标准比较严格，产品符合哪些安全认证？\\n   [销售回答] 我们的产品通过了多项国际和行业标准的安全认证，可以放心使用并符合您公司的安全标准要求。\\n\\n35. [客户问题] 我们希望与供应商建立长期稳定的合作关系，您有哪些建议？\\n   [销售回答] 我们重视与客户的长期合作关系，可以提供灵活的合作条款和定制化服务，确保合作稳定和长久。'),\n",
       " Document(metadata={'source': 'test_result.txt'}, page_content='36. [客户问题] 我们需要了解产品的保修条款和保修期限，请详细说明。\\n   [销售回答] 我们的产品提供多种保修条款和保修期限选择，可以根据您的需求进行调整和优化。\\n\\n37. [客户问题] 我们需要对产品进行定制化的包装，您能提供这样的服务吗？\\n   [销售回答] 是的，我们可以提供定制化的包装服务，以符合您的品牌形象和市场需求。\\n\\n38. [客户问题] 产品的配件和附件如何购买？能否单独订购？\\n   [销售回答] 是的，您可以单独订购配件和附件，我们会为您提供最新的价格和库存信息。\\n\\n39. [客户问题] 我们公司有些特殊的采购流程，您能适应吗？\\n   [销售回答] 我们有灵活的采购流程管理系统，可以根据您的特殊需求进行调整和优化。\\n\\n40. [客户问题] 产品是否支持远程监控和管理？\\n   [销售回答] 是的，我们的产品支持远程监控和管理功能，可以帮助您实现更高效的运营和维护。\\n\\n41. [客户问题] 我们希望了解产品的节能性能和能耗数据，请提供相关信息。\\n   [销售回答] 我们的产品采用节能设计，能够显著降低能耗，同时符合国际能效标准，让您的运营成本更低。\\n\\n42. [客户问题] 产品的安装和调试费用包含在内吗？\\n   [销售回答] 我们可以提供安装和调试服务，费用可以根据具体项目进行商议和确认。\\n\\n43. [客户问题] 如果产品需要维修，需要多长时间可以完成？\\n    [销售回答] 维修时间会根据具体故障和所在地区而定，我们会尽快安排维修服务，确保设备尽快恢复正常运行。\\n\\n44. [客户问题] 我们希望了解产品的退换货政策，可以详细说明一下吗？\\n    [销售回答] 我们提供七天无理由退换货服务，具体退换货政策细节可以在购买前与我们确认。\\n\\n45. [客户问题] 我们公司在质量控制方面非常严格，您的产品如何保证符合我们的标准？\\n    [销售回答] 我们有严格的质量控制流程和多重质检程序，确保每一批产品都符合高标准的质量要求，可以提供相关的质检报告供您参考。\\n\\n46. [客户问题] 我们需要了解产品的生命周期成本，包括采购成本和运营成本。\\n    [销售回答] 我们可以为您提供详细的生命周期成本分析报告，包括采购成本、运营成本、维护成本等方面的数据，帮助您做出全面的决策。'),\n",
       " Document(metadata={'source': 'test_result.txt'}, page_content='47. [客户问题] 如果我们对产品功能有特别需求，您能否进行定制开发？\\n    [销售回答] 是的，我们可以进行定制开发，根据您的特殊需求进行产品功能定制和优化，确保完全符合您的业务需求。\\n\\n48. [客户问题] 我们对产品的可靠性和耐久性有一些担忧，有哪些相关的保证措施？\\n    [销售回答] 我们的产品经过了严格的可靠性和耐久性测试，可以提供相关的测试报告和保证措施，保证产品在各种环境下的稳定运行。\\n\\n49. [客户问题] 我们希望了解产品的竞争分析和市场前景，您有相关的数据和报告吗？\\n    [销售回答] 我们可以为您提供产品的竞争分析报告和市场前景分析，帮助您了解产品在市场上的定位和发展趋势。\\n\\n50. [客户问题] 我们希望可以预览产品的用户界面和操作界面，能否提供相关的演示？\\n    [销售回答] 当然可以，请让我为您安排产品的在线演示或提供操作界面的截图和视频，让您更直观地了解产品的使用界面和功能。\\n\\n51. [客户问题] 我们需要了解产品的供应链管理系统和生产流程，能详细介绍一下吗？\\n    [销售回答] 我们有高效的供应链管理系统和严格的生产流程控制，确保产品的供应和生产过程高效有序，可以为您详细介绍我们的运作方式和流程。\\n\\n52. [客户问题] 如果产品出现故障，您们有没有提供远程支持和在线帮助？\\n    [销售回答] 是的，我们可以提供远程支持和在线帮助服务，通过远程技术支持团队解决您在使用过程中遇到的问题，确保及时解决。\\n\\n53. [客户问题] 我们对产品的适用性有些疑问，能否提供一些客户案例作为参考？\\n    [销售回答] 当然可以，请让我为您提供几个相关的客户案例，让您了解产品在不同行业和场景下的应用效果和反馈。\\n\\n54. [客户问题] 如果需要进行培训以熟悉产品使用，您们能提供相关的培训课程吗？\\n    [销售回答] 是的，我们可以提供产品使用培训课程，包括操作指南、技术支持和最佳实践，确保您的团队能够快速掌握产品使用技巧。\\n\\n56. [客户问题] 我们希望了解产品的环境友好性能和可持续发展政策。\\n   [销售回答] 我们的产品符合最新的环保标准，采用环保材料和节能设计，积极支持可持续发展，可以提供相关的环保性能数据和政策信息。'),\n",
       " Document(metadata={'source': 'test_result.txt'}, page_content='57. [客户问题] 我们对产品的软件更新和功能升级有些疑问，能否详细说明一下？\\n   [销售回答] 我们定期发布软件更新和功能升级，提升产品的性能和用户体验，可以为您详细介绍最新的软件版本和功能改进。\\n\\n58. [客户问题] 如果我们需要进行产品的定期维护，您们有提供相应的服务计划吗？\\n   [销售回答] 是的，我们可以提供定期维护服务计划，包括检查、保养和预防性维护，确保产品长期稳定运行。\\n\\n59. [客户问题] 我们公司需要一些特定的定制功能，您们能否进行二次开发？\\n   [销售回答] 是的，我们可以进行二次开发，根据您的特定需求进行定制功能开发和集成，以满足您的业务需求。\\n\\n60. [客户问题] 我们希望了解产品的市场定位和未来发展战略，您能分享一些信息吗？\\n   [销售回答] 我们的产品定位于高端市场，并有明确的未来发展战略，可以为您提供相关的市场定位和发展战略分析报告。\\n\\n61. [客户问题] 如果我们需要在特定地区进行产品安装和调试，您有相应的服务支持吗？\\n   [销售回答] 是的，我们有全球化的服务网络和技术支持团队，可以在全球范围内为您提供产品安装和调试服务支持。\\n\\n62. [客户问题] 我们公司有一些特殊的合规要求，您的产品是否符合相关法规和标准？\\n   [销售回答] 我们的产品符合各国相关的法规和标准要求，可以提供相关的合规证书和测试报告，确保符合您的合规要求。\\n\\n63. [客户问题] 我们对产品的可扩展性和兼容性有些关注，能否提供相关的信息？\\n   [销售回答] 我们的产品具有良好的可扩展性和兼容性，可以与其他系统和设备进行无缝集成，满足您的多样化需求。\\n\\n64. [客户问题] 我们需要了解产品的供应商管理和合作伙伴关系，您能介绍一下吗？\\n   [销售回答] 我们有严格的供应商管理制度和稳固的合作伙伴关系，确保产品的质量和供应稳定，可以为您详细介绍我们的供应链管理和合作伙伴体系。\\n\\n65. [客户问题] 如果产品需要进行远程或现场的定期检查，您能提供这样的服务吗？\\n   [销售回答] 是的，我们可以提供定期检查和维护服务，包括远程和现场支持，确保产品的运行状态和性能始终保持最佳状态。'),\n",
       " Document(metadata={'source': 'test_result.txt'}, page_content='66. [客户问题] 我们希望能与您的技术团队进行深入的技术交流和合作，您能安排吗？\\n     [销售回答] 当然可以，请让我们安排您与技术团队的交流会议，共同探讨技术细节和解决方案，以确保合作的成功进行。\\n\\n91. [客户问题] 客户：我对产品的售后支持和技术服务有些疑问，能否提供详细信息？\\n    [销售回答] 我们提供全面的售后支持和专业的技术服务，包括（描述具体的售后支持服务和技术支持方案），确保客户在使用过程中获得及时的帮助和支持。\\n\\n92. [客户问题] 客户：我需要了解一下贵公司的管理团队和领导层的背景。\\n    [销售回答] 我们的管理团队和领导层具有丰富的行业经验和专业知识，包括（描述管理团队成员的背景和领导层的管理风格），以确保公司的战略执行和业务运作的顺利进行。\\n\\n93. [客户问题] 客户：我对产品的设计理念和创新价值有些不明确，能否详细介绍一下？\\n    [销售回答] 我们的产品设计理念注重（描述设计理念，如用户体验、功能创新等），具有（提及创新价值和设计优势），以满足客户对高品质产品的需求和期待。\\n\\n94. [客户问题] 客户：我希望了解一下贵公司的品牌声誉和客户口碑。\\n    [销售回答] 我们的品牌在市场上享有良好的声誉和广泛的客户口碑，通过（提及客户反馈和评价），反映了客户对我们产品和服务的高度认可和满意度。\\n\\n95. [客户问题] 客户：我对贵公司的成长历程和发展里程碑有些兴趣，能否分享一下？\\n    [销售回答] 我们公司的成长历程和发展里程碑包括（描述公司的创立背景、重要发展阶段和关键成就），展示了我们在行业中的坚实基础和持续增长的动力。\\n\\n96. [客户问题] 客户：我对产品的市场定位和目标客户群有些疑问，能否提供详细分析？\\n    [销售回答] 我们的产品市场定位于（描述市场定位，如高端市场、中端市场等），主要面向（描述目标客户群体，如企业用户、个人消费者等），通过（提及市场分析和目标客户调研），确保产品与市场需求高度契合。\\n\\n97. [客户问题] 客户：我需要了解一下贵公司的创新能力和技术研发实力。\\n    [销售回答] 我们公司具有强大的创新能力和领先的技术研发实力，通过（描述研发团队的专业性和技术创新项目），不断推动产品的技术进步和市场竞争力提升。'),\n",
       " Document(metadata={'source': 'test_result.txt'}, page_content='98. [客户问题] 客户：我对产品的生产工艺和质量控制有些关注，能否详细介绍一下？\\n    [销售回答] 我们有严格的生产工艺和全面的质量控制体系，包括（描述具体的生产工艺流程和质量检验标准），确保产品的每一个环节都达到高品质标准和客户期望。\\n\\n99. [客户问题] 客户：我希望知道贵公司的社会责任和可持续发展战略。\\n    [销售回答] 我们公司积极履行社会责任，关注（描述公司关注的社会问题和环境保护措施），并实施（提及具体的可持续发展战略），为社会贡献力量。\\n\\n100. [客户问题] 客户：我对产品的供应链透明度和环保政策有些不了解，能否解释一下？\\n     [销售回答] 我们重视供应链透明度和环保政策，采取了（描述具体的供应链管理和环保政策措施），确保产品的生产过程符合环保要求和可持续发展理念。')]"
      ]
     },
     "execution_count": 6,
     "metadata": {},
     "output_type": "execute_result"
    }
   ],
   "source": [
    "docs"
   ]
  },
  {
   "cell_type": "code",
   "execution_count": 9,
   "id": "4f755948-f125-44c8-8505-0ca0759c15ff",
   "metadata": {},
   "outputs": [],
   "source": [
    "# OpenAI Embedding 模型\n",
    "embeddings = OpenAIEmbeddings(base_url=\"https://api.xiaoai.plus/v1\",api_key=\"sk-tdqfro61NniG2LZd5394E5F28c51419d8b4dE7Db5a6105C4\")"
   ]
  },
  {
   "cell_type": "code",
   "execution_count": 10,
   "id": "8bcd5edb-c085-4a6f-8f50-0885a6d2f15b",
   "metadata": {},
   "outputs": [],
   "source": [
    "# FAISS 向量数据库，使用 docs 的向量作为初始化存储\n",
    "db = FAISS.from_documents(docs, embeddings)"
   ]
  },
  {
   "cell_type": "code",
   "execution_count": 11,
   "id": "c227bec9-fbe0-46a5-8a86-7bfaf6fe5882",
   "metadata": {},
   "outputs": [],
   "source": [
    "# 构造提问 Query\n",
    "query = \"What did the president say about Ketanji Brown Jackson\""
   ]
  },
  {
   "cell_type": "markdown",
   "id": "f3443153-da85-4f33-bd8d-18bccd3eae18",
   "metadata": {},
   "source": [
    "## 相似度搜索"
   ]
  },
  {
   "cell_type": "code",
   "execution_count": 12,
   "id": "8fbbbf2e-0ff8-49d9-a378-09e2a0443a77",
   "metadata": {},
   "outputs": [],
   "source": [
    "# 在 Faiss 中进行相似度搜索，找出与 query 最相似结果\n",
    "docs = db.similarity_search(query)"
   ]
  },
  {
   "cell_type": "code",
   "execution_count": 13,
   "id": "918221f6-9687-4b04-a6b4-20527b111023",
   "metadata": {
    "tags": []
   },
   "outputs": [
    {
     "name": "stdout",
     "output_type": "stream",
     "text": [
      "66. [客户问题] 我们希望能与您的技术团队进行深入的技术交流和合作，您能安排吗？\n",
      "     [销售回答] 当然可以，请让我们安排您与技术团队的交流会议，共同探讨技术细节和解决方案，以确保合作的成功进行。\n",
      "\n",
      "91. [客户问题] 客户：我对产品的售后支持和技术服务有些疑问，能否提供详细信息？\n",
      "    [销售回答] 我们提供全面的售后支持和专业的技术服务，包括（描述具体的售后支持服务和技术支持方案），确保客户在使用过程中获得及时的帮助和支持。\n",
      "\n",
      "92. [客户问题] 客户：我需要了解一下贵公司的管理团队和领导层的背景。\n",
      "    [销售回答] 我们的管理团队和领导层具有丰富的行业经验和专业知识，包括（描述管理团队成员的背景和领导层的管理风格），以确保公司的战略执行和业务运作的顺利进行。\n",
      "\n",
      "93. [客户问题] 客户：我对产品的设计理念和创新价值有些不明确，能否详细介绍一下？\n",
      "    [销售回答] 我们的产品设计理念注重（描述设计理念，如用户体验、功能创新等），具有（提及创新价值和设计优势），以满足客户对高品质产品的需求和期待。\n",
      "\n",
      "94. [客户问题] 客户：我希望了解一下贵公司的品牌声誉和客户口碑。\n",
      "    [销售回答] 我们的品牌在市场上享有良好的声誉和广泛的客户口碑，通过（提及客户反馈和评价），反映了客户对我们产品和服务的高度认可和满意度。\n",
      "\n",
      "95. [客户问题] 客户：我对贵公司的成长历程和发展里程碑有些兴趣，能否分享一下？\n",
      "    [销售回答] 我们公司的成长历程和发展里程碑包括（描述公司的创立背景、重要发展阶段和关键成就），展示了我们在行业中的坚实基础和持续增长的动力。\n",
      "\n",
      "96. [客户问题] 客户：我对产品的市场定位和目标客户群有些疑问，能否提供详细分析？\n",
      "    [销售回答] 我们的产品市场定位于（描述市场定位，如高端市场、中端市场等），主要面向（描述目标客户群体，如企业用户、个人消费者等），通过（提及市场分析和目标客户调研），确保产品与市场需求高度契合。\n",
      "\n",
      "97. [客户问题] 客户：我需要了解一下贵公司的创新能力和技术研发实力。\n",
      "    [销售回答] 我们公司具有强大的创新能力和领先的技术研发实力，通过（描述研发团队的专业性和技术创新项目），不断推动产品的技术进步和市场竞争力提升。\n"
     ]
    }
   ],
   "source": [
    "# 输出 Faiss 中最相似结果\n",
    "print(docs[0].page_content)"
   ]
  },
  {
   "cell_type": "markdown",
   "id": "8d5a351e-bea4-43d3-9b31-567842aaa1c9",
   "metadata": {},
   "source": [
    "## 持久化存储 Faiss DB"
   ]
  },
  {
   "cell_type": "code",
   "execution_count": 14,
   "id": "44f4df2f-ed07-4322-9cfc-7044fc18ed1a",
   "metadata": {},
   "outputs": [],
   "source": [
    "db.save_local(\"faiss_index\")"
   ]
  },
  {
   "cell_type": "code",
   "execution_count": null,
   "id": "5bfe3f8a-d975-42c6-b3c0-40d253506442",
   "metadata": {},
   "outputs": [],
   "source": []
  },
  {
   "cell_type": "markdown",
   "id": "346ca9d7-f4bf-4579-a301-7a6964492a31",
   "metadata": {},
   "source": [
    "## 加载 Faiss DB"
   ]
  },
  {
   "cell_type": "code",
   "execution_count": 15,
   "id": "2dd3c237-3b9e-4439-966f-a34270d6471a",
   "metadata": {},
   "outputs": [
    {
     "ename": "ValueError",
     "evalue": "The de-serialization relies loading a pickle file. Pickle files can be modified to deliver a malicious payload that results in execution of arbitrary code on your machine.You will need to set `allow_dangerous_deserialization` to `True` to enable deserialization. If you do this, make sure that you trust the source of the data. For example, if you are loading a file that you created, and know that no one else has modified the file, then this is safe to do. Do not set this to `True` if you are loading a file from an untrusted source (e.g., some random site on the internet.).",
     "output_type": "error",
     "traceback": [
      "\u001b[1;31m---------------------------------------------------------------------------\u001b[0m",
      "\u001b[1;31mValueError\u001b[0m                                Traceback (most recent call last)",
      "Cell \u001b[1;32mIn[15], line 1\u001b[0m\n\u001b[1;32m----> 1\u001b[0m new_db \u001b[38;5;241m=\u001b[39m \u001b[43mFAISS\u001b[49m\u001b[38;5;241;43m.\u001b[39;49m\u001b[43mload_local\u001b[49m\u001b[43m(\u001b[49m\u001b[38;5;124;43m\"\u001b[39;49m\u001b[38;5;124;43mfaiss_index\u001b[39;49m\u001b[38;5;124;43m\"\u001b[39;49m\u001b[43m,\u001b[49m\u001b[43m \u001b[49m\u001b[43membeddings\u001b[49m\u001b[43m)\u001b[49m\n",
      "File \u001b[1;32mD:\\anaconda\\anaconda\\envs\\langchain\\lib\\site-packages\\langchain_community\\vectorstores\\faiss.py:1078\u001b[0m, in \u001b[0;36mFAISS.load_local\u001b[1;34m(cls, folder_path, embeddings, index_name, allow_dangerous_deserialization, **kwargs)\u001b[0m\n\u001b[0;32m   1063\u001b[0m \u001b[38;5;250m\u001b[39m\u001b[38;5;124;03m\"\"\"Load FAISS index, docstore, and index_to_docstore_id from disk.\u001b[39;00m\n\u001b[0;32m   1064\u001b[0m \n\u001b[0;32m   1065\u001b[0m \u001b[38;5;124;03mArgs:\u001b[39;00m\n\u001b[1;32m   (...)\u001b[0m\n\u001b[0;32m   1075\u001b[0m \u001b[38;5;124;03m    asynchronous: whether to use async version or not\u001b[39;00m\n\u001b[0;32m   1076\u001b[0m \u001b[38;5;124;03m\"\"\"\u001b[39;00m\n\u001b[0;32m   1077\u001b[0m \u001b[38;5;28;01mif\u001b[39;00m \u001b[38;5;129;01mnot\u001b[39;00m allow_dangerous_deserialization:\n\u001b[1;32m-> 1078\u001b[0m     \u001b[38;5;28;01mraise\u001b[39;00m \u001b[38;5;167;01mValueError\u001b[39;00m(\n\u001b[0;32m   1079\u001b[0m         \u001b[38;5;124m\"\u001b[39m\u001b[38;5;124mThe de-serialization relies loading a pickle file. \u001b[39m\u001b[38;5;124m\"\u001b[39m\n\u001b[0;32m   1080\u001b[0m         \u001b[38;5;124m\"\u001b[39m\u001b[38;5;124mPickle files can be modified to deliver a malicious payload that \u001b[39m\u001b[38;5;124m\"\u001b[39m\n\u001b[0;32m   1081\u001b[0m         \u001b[38;5;124m\"\u001b[39m\u001b[38;5;124mresults in execution of arbitrary code on your machine.\u001b[39m\u001b[38;5;124m\"\u001b[39m\n\u001b[0;32m   1082\u001b[0m         \u001b[38;5;124m\"\u001b[39m\u001b[38;5;124mYou will need to set `allow_dangerous_deserialization` to `True` to \u001b[39m\u001b[38;5;124m\"\u001b[39m\n\u001b[0;32m   1083\u001b[0m         \u001b[38;5;124m\"\u001b[39m\u001b[38;5;124menable deserialization. If you do this, make sure that you \u001b[39m\u001b[38;5;124m\"\u001b[39m\n\u001b[0;32m   1084\u001b[0m         \u001b[38;5;124m\"\u001b[39m\u001b[38;5;124mtrust the source of the data. For example, if you are loading a \u001b[39m\u001b[38;5;124m\"\u001b[39m\n\u001b[0;32m   1085\u001b[0m         \u001b[38;5;124m\"\u001b[39m\u001b[38;5;124mfile that you created, and know that no one else has modified the \u001b[39m\u001b[38;5;124m\"\u001b[39m\n\u001b[0;32m   1086\u001b[0m         \u001b[38;5;124m\"\u001b[39m\u001b[38;5;124mfile, then this is safe to do. Do not set this to `True` if you are \u001b[39m\u001b[38;5;124m\"\u001b[39m\n\u001b[0;32m   1087\u001b[0m         \u001b[38;5;124m\"\u001b[39m\u001b[38;5;124mloading a file from an untrusted source (e.g., some random site on \u001b[39m\u001b[38;5;124m\"\u001b[39m\n\u001b[0;32m   1088\u001b[0m         \u001b[38;5;124m\"\u001b[39m\u001b[38;5;124mthe internet.).\u001b[39m\u001b[38;5;124m\"\u001b[39m\n\u001b[0;32m   1089\u001b[0m     )\n\u001b[0;32m   1090\u001b[0m path \u001b[38;5;241m=\u001b[39m Path(folder_path)\n\u001b[0;32m   1091\u001b[0m \u001b[38;5;66;03m# load index separately since it is not picklable\u001b[39;00m\n",
      "\u001b[1;31mValueError\u001b[0m: The de-serialization relies loading a pickle file. Pickle files can be modified to deliver a malicious payload that results in execution of arbitrary code on your machine.You will need to set `allow_dangerous_deserialization` to `True` to enable deserialization. If you do this, make sure that you trust the source of the data. For example, if you are loading a file that you created, and know that no one else has modified the file, then this is safe to do. Do not set this to `True` if you are loading a file from an untrusted source (e.g., some random site on the internet.)."
     ]
    }
   ],
   "source": [
    "new_db = FAISS.load_local(\"faiss_index\", embeddings)"
   ]
  },
  {
   "cell_type": "code",
   "execution_count": 17,
   "id": "8c81f9f3-1650-4737-adec-d09380f1b8d9",
   "metadata": {},
   "outputs": [],
   "source": [
    "docs = new_db.similarity_search(query)"
   ]
  },
  {
   "cell_type": "code",
   "execution_count": 18,
   "id": "0524202a-199c-4284-81d7-c6febf2b584e",
   "metadata": {},
   "outputs": [
    {
     "name": "stdout",
     "output_type": "stream",
     "text": [
      "Tonight. I call on the Senate to: Pass the Freedom to Vote Act. Pass the John Lewis Voting Rights Act. And while you’re at it, pass the Disclose Act so Americans can know who is funding our elections. \n",
      "\n",
      "Tonight, I’d like to honor someone who has dedicated his life to serve this country: Justice Stephen Breyer—an Army veteran, Constitutional scholar, and retiring Justice of the United States Supreme Court. Justice Breyer, thank you for your service. \n",
      "\n",
      "One of the most serious constitutional responsibilities a President has is nominating someone to serve on the United States Supreme Court. \n",
      "\n",
      "And I did that 4 days ago, when I nominated Circuit Court of Appeals Judge Ketanji Brown Jackson. One of our nation’s top legal minds, who will continue Justice Breyer’s legacy of excellence.\n"
     ]
    }
   ],
   "source": [
    "print(docs[0].page_content)"
   ]
  },
  {
   "cell_type": "code",
   "execution_count": null,
   "id": "ac22b688-6e25-41ea-aab0-cb70fd148c64",
   "metadata": {},
   "outputs": [],
   "source": []
  }
 ],
 "metadata": {
  "kernelspec": {
   "display_name": "langchain",
   "language": "python",
   "name": "langchain"
  },
  "language_info": {
   "codemirror_mode": {
    "name": "ipython",
    "version": 3
   },
   "file_extension": ".py",
   "mimetype": "text/x-python",
   "name": "python",
   "nbconvert_exporter": "python",
   "pygments_lexer": "ipython3",
   "version": "3.10.14"
  }
 },
 "nbformat": 4,
 "nbformat_minor": 5
}
